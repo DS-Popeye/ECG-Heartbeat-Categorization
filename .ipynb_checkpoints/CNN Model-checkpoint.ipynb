{
 "cells": [
  {
   "cell_type": "code",
   "execution_count": 1,
   "id": "461d6aaa",
   "metadata": {},
   "outputs": [],
   "source": [
    "import pandas as pd\n",
    "import numpy as np\n",
    "import seaborn as sns\n",
    "import matplotlib.pyplot as plt\n",
    "import os\n",
    "from sklearn.preprocessing import StandardScaler\n",
    "from keras.utils.np_utils import to_categorical"
   ]
  },
  {
   "cell_type": "code",
   "execution_count": 2,
   "id": "ddfe110f",
   "metadata": {},
   "outputs": [],
   "source": [
    "from sklearn.metrics import classification_report\n",
    "from sklearn.model_selection import train_test_split\n",
    "from sklearn.metrics import f1_score\n",
    "from sklearn.metrics import confusion_matrix\n",
    "from keras.utils.np_utils import to_categorical\n",
    "from sklearn.utils import class_weight\n",
    "import warnings\n",
    "warnings.filterwarnings('ignore')"
   ]
  },
  {
   "cell_type": "code",
   "execution_count": null,
   "id": "efabf198",
   "metadata": {},
   "outputs": [],
   "source": [
    "train_df=pd.read_csv('mitbih_train.csv',header=None)\n",
    "test_df=pd.read_csv('mitbih_test.csv',header=None)"
   ]
  },
  {
   "cell_type": "code",
   "execution_count": null,
   "id": "28d29383",
   "metadata": {},
   "outputs": [],
   "source": [
    "feat_cols_name = [i for i in range(train_df.shape[1]-1)]\n",
    "\n",
    "train_df.columns = feat_cols_name+[\"label\"]\n",
    "test_df.columns = feat_cols_name+[\"label\"]"
   ]
  },
  {
   "cell_type": "code",
   "execution_count": null,
   "id": "7b2c94f2",
   "metadata": {},
   "outputs": [],
   "source": [
    "test_df=pd.read_csv('mitbih_test.csv',header=None)"
   ]
  },
  {
   "cell_type": "code",
   "execution_count": null,
   "id": "380a7e30",
   "metadata": {},
   "outputs": [],
   "source": [
    "train_df[187]=train_df[187].astype(int)\n",
    "equilibre=train_df[187].value_counts()"
   ]
  },
  {
   "cell_type": "code",
   "execution_count": null,
   "id": "01fd3e5b",
   "metadata": {},
   "outputs": [],
   "source": [
    "from sklearn.utils import resample\n",
    "df_1=train_df[train_df[187]==1]\n",
    "df_2=train_df[train_df[187]==2]\n",
    "df_3=train_df[train_df[187]==3]\n",
    "df_4=train_df[train_df[187]==4]\n",
    "df_0=(train_df[train_df[187]==0]).sample(n=20000,random_state=42)\n",
    "\n",
    "df_1_upsample=resample(df_1,replace=True,n_samples=20000,random_state=123)\n",
    "df_2_upsample=resample(df_2,replace=True,n_samples=20000,random_state=124)\n",
    "df_3_upsample=resample(df_3,replace=True,n_samples=20000,random_state=125)\n",
    "df_4_upsample=resample(df_4,replace=True,n_samples=20000,random_state=126)\n",
    "\n",
    "train_df=pd.concat([df_0,df_1_upsample,df_2_upsample,df_3_upsample,df_4_upsample])"
   ]
  },
  {
   "cell_type": "code",
   "execution_count": null,
   "id": "d75b1cc1",
   "metadata": {},
   "outputs": [],
   "source": [
    "Model_train=train_df.groupby(187,group_keys=False).apply(lambda train_df : train_df.sample(1))"
   ]
  },
  {
   "cell_type": "code",
   "execution_count": null,
   "id": "4e15a30c",
   "metadata": {},
   "outputs": [],
   "source": [
    "Model_train.head()"
   ]
  },
  {
   "cell_type": "code",
   "execution_count": null,
   "id": "02984477",
   "metadata": {},
   "outputs": [],
   "source": [
    "#Classes:['N': 0, 'S': 1, 'V': 2, 'F': 3, 'Q': 4]\n",
    "Classes = {\n",
    "    0:'N', \n",
    "    1:'S', \n",
    "    2:'V', \n",
    "    3:'F',\n",
    "    4:'Q'\n",
    "}\n",
    "\n",
    "Classes_index = {\n",
    "    'N': 0, \n",
    "    'S': 1, \n",
    "    'V': 2, \n",
    "    'F': 3, \n",
    "    'Q': 4\n",
    "}"
   ]
  },
  {
   "cell_type": "code",
   "execution_count": null,
   "id": "c865c801",
   "metadata": {},
   "outputs": [],
   "source": [
    " plt.plot(Model_train.iloc[0,:186])"
   ]
  },
  {
   "cell_type": "code",
   "execution_count": null,
   "id": "60ed504b",
   "metadata": {},
   "outputs": [],
   "source": [
    " plt.plot(Model_train.iloc[1,:186])"
   ]
  },
  {
   "cell_type": "code",
   "execution_count": null,
   "id": "22ddbbb7",
   "metadata": {},
   "outputs": [],
   "source": [
    " plt.plot(Model_train.iloc[2,:186])"
   ]
  },
  {
   "cell_type": "code",
   "execution_count": null,
   "id": "08c6cdc2",
   "metadata": {},
   "outputs": [],
   "source": [
    " plt.plot(Model_train.iloc[3,:186])"
   ]
  },
  {
   "cell_type": "code",
   "execution_count": null,
   "id": "61625d13",
   "metadata": {},
   "outputs": [],
   "source": [
    "def add_gaussian_noise(code):\n",
    "    noise=np.random.normal(0,0.5,186)\n",
    "    return (code+noise)"
   ]
  },
  {
   "cell_type": "code",
   "execution_count": null,
   "id": "c3696a5d",
   "metadata": {},
   "outputs": [],
   "source": [
    "temp=Model_train.iloc[0,:186]\n",
    "bruiter=add_gaussian_noise(temp)\n",
    "\n",
    "plt.subplot(2,1,1)\n",
    "plt.plot(Model_train.iloc[0,:186])\n",
    "\n",
    "plt.subplot(2,1,2)\n",
    "plt.plot(bruiter)\n",
    "\n",
    "plt.show()"
   ]
  },
  {
   "cell_type": "code",
   "execution_count": null,
   "id": "d4402cf5",
   "metadata": {},
   "outputs": [],
   "source": [
    "import math "
   ]
  },
  {
   "cell_type": "code",
   "execution_count": null,
   "id": "f033030a",
   "metadata": {},
   "outputs": [],
   "source": [
    "train_df[\"label\"] = train_df[\"label\"].astype(int)\n",
    "test_df[\"label\"] = test_df[\"label\"].astype(int)"
   ]
  },
  {
   "cell_type": "code",
   "execution_count": null,
   "id": "5ad2bb8e",
   "metadata": {},
   "outputs": [],
   "source": [
    "train_df[\"label\"] = train_df[\"label\"].map(Classes)\n",
    "test_df[\"label\"] = test_df[\"label\"].map(Classes)"
   ]
  },
  {
   "cell_type": "code",
   "execution_count": null,
   "id": "7332a1d9",
   "metadata": {},
   "outputs": [],
   "source": []
  },
  {
   "cell_type": "code",
   "execution_count": null,
   "id": "6758e3ca",
   "metadata": {},
   "outputs": [],
   "source": [
    "fig, axes= plt.subplots(math.ceil(len(Classes_index.keys())/2), 2, figsize=(20,30), constrained_layout=True)\n",
    "X = np.arange(0, len(feat_cols_name))*8/1000\n",
    "\n",
    "i = 0\n",
    "for key, value in Classes_index.items():\n",
    "    ax = axes[int(i/2), i%2]\n",
    "    ax.plot(X, train_df[train_df[\"label\"] == key][feat_cols_name].sample(1).values.reshape(-1,1))\n",
    "    ax.legend()\n",
    "    ax.set(title=\"1-beat ECG for Cat {}\".format(key))\n",
    "    ax.set(ylabel=\"Amplitude\")\n",
    "    ax.set(xlabel=\"Time (ms)\")\n",
    "    i+=1"
   ]
  },
  {
   "cell_type": "code",
   "execution_count": null,
   "id": "735a8f52",
   "metadata": {},
   "outputs": [],
   "source": []
  },
  {
   "cell_type": "code",
   "execution_count": null,
   "id": "bf050e71",
   "metadata": {},
   "outputs": [],
   "source": [
    "target_train=train_df[187]\n",
    "target_test=test_df[187]"
   ]
  },
  {
   "cell_type": "code",
   "execution_count": null,
   "id": "cef8e164",
   "metadata": {},
   "outputs": [],
   "source": [
    "y_train=to_categorical(target_train)"
   ]
  },
  {
   "cell_type": "code",
   "execution_count": null,
   "id": "fa230123",
   "metadata": {},
   "outputs": [],
   "source": [
    "y_test=to_categorical(target_test)"
   ]
  },
  {
   "cell_type": "code",
   "execution_count": null,
   "id": "b037d1f5",
   "metadata": {},
   "outputs": [],
   "source": [
    "test_df.head()"
   ]
  },
  {
   "cell_type": "code",
   "execution_count": null,
   "id": "89aae078",
   "metadata": {},
   "outputs": [],
   "source": [
    "X_train=train_df.iloc[:,:186].values\n",
    "X_test=test_df.iloc[:,:186].values\n",
    "for i in range(len(X_train)):\n",
    "    X_train[i,:186]= add_gaussian_noise(X_train[i,:186])\n",
    "X_train = X_train.reshape(len(X_train), X_train.shape[1],1)\n",
    "X_test = X_test.reshape(len(X_test), X_test.shape[1],1)"
   ]
  },
  {
   "cell_type": "code",
   "execution_count": null,
   "id": "9babf376",
   "metadata": {},
   "outputs": [],
   "source": [
    "def network(X_train,y_train,X_test,y_test):\n",
    "    \n",
    "\n",
    "    im_shape=(X_train.shape[1],1)\n",
    "    inputs_cnn=Input(shape=(im_shape), name='inputs_cnn')\n",
    "    conv1_1=Convolution1D(64, (6), activation='relu', input_shape=im_shape)(inputs_cnn)\n",
    "    conv1_1=BatchNormalization()(conv1_1)\n",
    "    pool1=MaxPool1D(pool_size=(3), strides=(2), padding=\"same\")(conv1_1)\n",
    "    conv2_1=Convolution1D(64, (3), activation='relu', input_shape=im_shape)(pool1)\n",
    "    conv2_1=BatchNormalization()(conv2_1)\n",
    "    pool2=MaxPool1D(pool_size=(2), strides=(2), padding=\"same\")(conv2_1)\n",
    "    conv3_1=Convolution1D(64, (3), activation='relu', input_shape=im_shape)(pool2)\n",
    "    conv3_1=BatchNormalization()(conv3_1)\n",
    "    pool3=MaxPool1D(pool_size=(2), strides=(2), padding=\"same\")(conv3_1)\n",
    "    flatten=Flatten()(pool3)\n",
    "    dense_end1 = Dense(64, activation='relu')(flatten)\n",
    "    dense_end2 = Dense(32, activation='relu')(dense_end1)\n",
    "    main_output = Dense(5, activation='softmax', name='main_output')(dense_end2)\n",
    "    \n",
    "    \n",
    "    model = Model(inputs= inputs_cnn, outputs=main_output)\n",
    "    model.compile(optimizer='adam', loss='categorical_crossentropy',metrics = ['accuracy'])\n",
    "    \n",
    "    \n",
    "    callbacks = [EarlyStopping(monitor='val_loss', patience=8),\n",
    "             ModelCheckpoint(filepath='best_model.h5', monitor='val_loss', save_best_only=True)]\n",
    "\n",
    "    history=model.fit(X_train, y_train,epochs=40,callbacks=callbacks, batch_size=32,validation_data=(X_test,y_test))\n",
    "    model.load_weights('best_model.h5')\n",
    "    return(model,history)"
   ]
  },
  {
   "cell_type": "code",
   "execution_count": null,
   "id": "cefff523",
   "metadata": {},
   "outputs": [],
   "source": [
    "def evaluate_model(history,X_test,y_test,model):\n",
    "    scores = model.evaluate((X_test),y_test, verbose=0)\n",
    "    print(\"Accuracy: %.2f%%\" % (scores[1]*100))\n",
    "    \n",
    "    print(history)\n",
    "    fig1, ax_acc = plt.subplots()\n",
    "    plt.plot(history.history['accuracy'])\n",
    "    plt.plot(history.history['val_accuracy'])\n",
    "    plt.xlabel('Epoch')\n",
    "    plt.ylabel('Accuracy')\n",
    "    plt.title('Model - Accuracy')\n",
    "    plt.legend(['Training', 'Validation'], loc='lower right')\n",
    "    plt.show()\n",
    "    \n",
    "    fig2, ax_loss = plt.subplots()\n",
    "    plt.xlabel('Epoch')\n",
    "    plt.ylabel('Loss')\n",
    "    plt.title('Model- Loss')\n",
    "    plt.legend(['Training', 'Validation'], loc='upper right')\n",
    "    plt.plot(history.history['loss'])\n",
    "    plt.plot(history.history['val_loss'])\n",
    "    plt.show()\n",
    "    target_names=['0','1','2','3','4']\n",
    "    \n",
    "    y_true=[]\n",
    "    for element in y_test:\n",
    "        y_true.append(np.argmax(element))\n",
    "    prediction_proba=model.predict(X_test)\n",
    "    prediction=np.argmax(prediction_proba,axis=1)\n",
    "    cnf_matrix = confusion_matrix(y_true, prediction)\n",
    "    "
   ]
  },
  {
   "cell_type": "code",
   "execution_count": null,
   "id": "45b0deba",
   "metadata": {},
   "outputs": [],
   "source": [
    "from keras.layers import Dense, Convolution1D, MaxPool1D, Flatten, Dropout\n",
    "from keras.layers import Input\n",
    "from keras.models import Model\n",
    "from keras.layers.normalization import BatchNormalization\n",
    "import keras\n",
    "from keras.callbacks import EarlyStopping, ModelCheckpoint\n",
    "\n",
    "model,history=network(X_train,y_train,X_test,y_test)"
   ]
  },
  {
   "cell_type": "code",
   "execution_count": null,
   "id": "e0170dfc",
   "metadata": {},
   "outputs": [],
   "source": [
    "evaluate_model(history,X_test,y_test,model)\n",
    "y_pred=model.predict(X_test)"
   ]
  }
 ],
 "metadata": {
  "kernelspec": {
   "display_name": "Python 3",
   "language": "python",
   "name": "python3"
  },
  "language_info": {
   "codemirror_mode": {
    "name": "ipython",
    "version": 3
   },
   "file_extension": ".py",
   "mimetype": "text/x-python",
   "name": "python",
   "nbconvert_exporter": "python",
   "pygments_lexer": "ipython3",
   "version": "3.8.8"
  }
 },
 "nbformat": 4,
 "nbformat_minor": 5
}
